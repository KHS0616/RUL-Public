{
 "cells": [
  {
   "cell_type": "code",
   "execution_count": 1,
   "metadata": {},
   "outputs": [],
   "source": [
    "# Python ≥3.5 is required\n",
    "import sys\n",
    "assert sys.version_info >= (3, 5)\n",
    "\n",
    "# Scikit-Learn ≥0.20 is required\n",
    "import sklearn\n",
    "assert sklearn.__version__ >= \"0.20\"\n",
    "\n",
    "try:\n",
    "    # %tensorflow_version only exists in Colab.\n",
    "    %tensorflow_version 2.x\n",
    "    IS_COLAB = True\n",
    "except Exception:\n",
    "    IS_COLAB = False\n",
    "\n",
    "# TensorFlow ≥2.0 is required\n",
    "import tensorflow as tf\n",
    "from tensorflow import keras\n",
    "assert tf.__version__ >= \"2.0\"\n",
    "\n",
    "if not tf.config.list_physical_devices('GPU'):\n",
    "    print(\"No GPU was detected. LSTMs and CNNs can be very slow without a GPU.\")\n",
    "    if IS_COLAB:\n",
    "        print(\"Go to Runtime > Change runtime and select a GPU hardware accelerator.\")\n",
    "\n",
    "# Common imports\n",
    "import numpy as np\n",
    "import os\n",
    "from pathlib import Path\n",
    "\n",
    "# to make this notebook's output stable across runs\n",
    "np.random.seed(42)\n",
    "tf.random.set_seed(42)\n",
    "\n",
    "# To plot pretty figures\n",
    "%matplotlib inline\n",
    "import matplotlib as mpl\n",
    "import matplotlib.pyplot as plt\n",
    "mpl.rc('axes', labelsize=14)\n",
    "mpl.rc('xtick', labelsize=12)\n",
    "mpl.rc('ytick', labelsize=12)\n",
    "\n",
    "# Where to save the figures\n",
    "PROJECT_ROOT_DIR = \".\"\n",
    "CHAPTER_ID = \"rnn\"\n",
    "IMAGES_PATH = os.path.join(PROJECT_ROOT_DIR, \"images\", CHAPTER_ID)\n",
    "os.makedirs(IMAGES_PATH, exist_ok=True)\n",
    "\n",
    "def save_fig(fig_id, tight_layout=True, fig_extension=\"png\", resolution=300):\n",
    "    path = os.path.join(IMAGES_PATH, fig_id + \".\" + fig_extension)\n",
    "    print(\"Saving figure\", fig_id)\n",
    "    if tight_layout:\n",
    "        plt.tight_layout()\n",
    "    plt.savefig(path, format=fig_extension, dpi=resolution)"
   ]
  },
  {
   "cell_type": "code",
   "execution_count": 2,
   "metadata": {},
   "outputs": [],
   "source": [
    "import pandas as pd\n",
    "\n",
    "data_normal = pd.read_csv('../Data/베어링/0_베어링정상.csv', names=['X'])\n",
    "data_normal2 = pd.read_csv('../Data/베어링/2_베어링외륜결함.csv', names=['X'])"
   ]
  },
  {
   "cell_type": "code",
   "execution_count": 8,
   "metadata": {},
   "outputs": [],
   "source": [
    "data_normal = data_normal[:15000000]\n",
    "data_normal2 = data_normal2[:15000000]\n",
    "\n",
    "x = data_normal.append(data_normal2)"
   ]
  },
  {
   "cell_type": "code",
   "execution_count": 11,
   "metadata": {},
   "outputs": [
    {
     "data": {
      "text/plain": [
       "<bound method DataFrame.reset_index of                  X\n",
       "0        -0.025873\n",
       "1        -0.011678\n",
       "2        -0.006844\n",
       "3        -0.007219\n",
       "4        -0.001965\n",
       "...            ...\n",
       "14999995  0.039542\n",
       "14999996  0.026317\n",
       "14999997  0.012972\n",
       "14999998 -0.000390\n",
       "14999999 -0.013666\n",
       "\n",
       "[30000000 rows x 1 columns]>"
      ]
     },
     "execution_count": 11,
     "metadata": {},
     "output_type": "execute_result"
    }
   ],
   "source": [
    "x.reset_index"
   ]
  },
  {
   "cell_type": "code",
   "execution_count": 18,
   "metadata": {},
   "outputs": [],
   "source": [
    "#데이터 전처리 (정규화)\n",
    "from sklearn.preprocessing import MinMaxScaler\n",
    "scaler = MinMaxScaler(feature_range=(0, 1))\n",
    "x_data = scaler.fit_transform(x)"
   ]
  },
  {
   "cell_type": "code",
   "execution_count": 19,
   "metadata": {},
   "outputs": [],
   "source": [
    "def make_HI(x):\n",
    "    y_data = []\n",
    "    for i in range(len(x)):\n",
    "        x[i] = np.power(x[i],2)\n",
    "        x[i] = np.mean(x[i])\n",
    "        x[i] = np.sqrt(x[i])\n",
    "    y_data.append(x)\n",
    "    return y_data"
   ]
  },
  {
   "cell_type": "code",
   "execution_count": 21,
   "metadata": {},
   "outputs": [
    {
     "data": {
      "text/plain": [
       "(1, 30000000, 1)"
      ]
     },
     "execution_count": 21,
     "metadata": {},
     "output_type": "execute_result"
    }
   ],
   "source": [
    "y_data = make_HI(x_data)\n",
    "y_data = np.array(y_data)\n"
   ]
  },
  {
   "cell_type": "code",
   "execution_count": 43,
   "metadata": {},
   "outputs": [],
   "source": [
    "y_data = y_data.reshape(30000000)"
   ]
  },
  {
   "cell_type": "code",
   "execution_count": 44,
   "metadata": {},
   "outputs": [
    {
     "data": {
      "text/plain": [
       "(30000000,)"
      ]
     },
     "execution_count": 44,
     "metadata": {},
     "output_type": "execute_result"
    }
   ],
   "source": [
    "y_data.shape"
   ]
  },
  {
   "cell_type": "code",
   "execution_count": 50,
   "metadata": {},
   "outputs": [
    {
     "name": "stdout",
     "output_type": "stream",
     "text": [
      "성공\n"
     ]
    }
   ],
   "source": [
    "y = []\n",
    "for i in range(1,30000000):\n",
    "    if y_data[i] % 50000 == 0:\n",
    "        print(\"성공\")\n",
    "        y.append(y_data[i])"
   ]
  },
  {
   "cell_type": "code",
   "execution_count": 56,
   "metadata": {},
   "outputs": [
    {
     "data": {
      "text/plain": [
       "(2, 25000)"
      ]
     },
     "execution_count": 56,
     "metadata": {},
     "output_type": "execute_result"
    }
   ],
   "source": [
    "y_train = []\n",
    "y_train.append(y_data[:25000])\n",
    "y_train.append(y_data[29975000:])\n",
    "y_train = np.array(y_train)\n",
    "y_train.shape"
   ]
  },
  {
   "cell_type": "code",
   "execution_count": 57,
   "metadata": {},
   "outputs": [],
   "source": [
    "y_train = y_train.reshape(50000,-1)"
   ]
  },
  {
   "cell_type": "code",
   "execution_count": 22,
   "metadata": {},
   "outputs": [
    {
     "data": {
      "text/plain": [
       "(50000, 600, 1)"
      ]
     },
     "execution_count": 22,
     "metadata": {},
     "output_type": "execute_result"
    }
   ],
   "source": [
    "x_data = np.array(x)\n",
    "x_data = x_data.reshape(-1,600,1)\n",
    "x_data.shape"
   ]
  },
  {
   "cell_type": "code",
   "execution_count": 64,
   "metadata": {},
   "outputs": [
    {
     "data": {
      "text/plain": [
       "-0.012724033938050352"
      ]
     },
     "execution_count": 64,
     "metadata": {},
     "output_type": "execute_result"
    }
   ],
   "source": [
    "np.mean(x_data)"
   ]
  },
  {
   "cell_type": "code",
   "execution_count": 60,
   "metadata": {
    "scrolled": true
   },
   "outputs": [
    {
     "name": "stdout",
     "output_type": "stream",
     "text": [
      "Epoch 1/20\n",
      "1563/1563 [==============================] - 690s 442ms/step - loss: 0.0039\n",
      "Epoch 2/20\n",
      "1563/1563 [==============================] - 698s 446ms/step - loss: 0.0025\n",
      "Epoch 3/20\n",
      "1563/1563 [==============================] - 694s 444ms/step - loss: 0.0025\n",
      "Epoch 4/20\n",
      "1563/1563 [==============================] - 699s 447ms/step - loss: 0.0025\n",
      "Epoch 5/20\n",
      "1563/1563 [==============================] - 698s 446ms/step - loss: 0.0025\n",
      "Epoch 6/20\n",
      "1563/1563 [==============================] - 693s 443ms/step - loss: 0.0025\n",
      "Epoch 7/20\n",
      "1563/1563 [==============================] - 694s 444ms/step - loss: 0.0025\n",
      "Epoch 8/20\n",
      "1563/1563 [==============================] - 693s 444ms/step - loss: 0.0025\n",
      "Epoch 9/20\n",
      "1563/1563 [==============================] - 697s 446ms/step - loss: 0.0025\n",
      "Epoch 10/20\n",
      "1563/1563 [==============================] - 696s 445ms/step - loss: 0.0025\n",
      "Epoch 11/20\n",
      "1563/1563 [==============================] - 695s 444ms/step - loss: 0.0026\n",
      "Epoch 12/20\n",
      "1563/1563 [==============================] - 698s 446ms/step - loss: 0.0025\n",
      "Epoch 13/20\n",
      "1563/1563 [==============================] - 692s 442ms/step - loss: 0.0026\n",
      "Epoch 14/20\n",
      "1563/1563 [==============================] - 700s 448ms/step - loss: 0.0026\n",
      "Epoch 15/20\n",
      "1563/1563 [==============================] - 696s 445ms/step - loss: 0.0025\n",
      "Epoch 16/20\n",
      "1563/1563 [==============================] - 702s 449ms/step - loss: 0.0025\n",
      "Epoch 17/20\n",
      "1563/1563 [==============================] - 698s 447ms/step - loss: 0.0025\n",
      "Epoch 18/20\n",
      "1563/1563 [==============================] - 700s 448ms/step - loss: 0.0025\n",
      "Epoch 19/20\n",
      "1563/1563 [==============================] - 698s 446ms/step - loss: 0.0026\n",
      "Epoch 20/20\n",
      "1563/1563 [==============================] - 697s 446ms/step - loss: 0.0026\n"
     ]
    }
   ],
   "source": [
    "model = keras.models.Sequential([\n",
    "    keras.layers.SimpleRNN(20, return_sequences=True, input_shape=[None, 1]),\n",
    "    keras.layers.SimpleRNN(20),\n",
    "    keras.layers.Dense(1)\n",
    "])\n",
    "optimizer = keras.optimizers.Adam(lr=0.005)\n",
    "model.compile(loss=\"mse\", optimizer=optimizer)\n",
    "history = model.fit(x_data, y_train, epochs=20)"
   ]
  },
  {
   "cell_type": "code",
   "execution_count": null,
   "metadata": {},
   "outputs": [],
   "source": [
    "#기본 RUL 모델(10분짜리 만들어놨음) 돌려야함"
   ]
  },
  {
   "cell_type": "code",
   "execution_count": null,
   "metadata": {},
   "outputs": [],
   "source": [
    "k = np.mean(x_data)"
   ]
  },
  {
   "cell_type": "code",
   "execution_count": 88,
   "metadata": {
    "scrolled": true
   },
   "outputs": [
    {
     "data": {
      "image/png": "[encoded data removed]",
      "text/plain": [
       "<Figure size 432x288 with 1 Axes>"
      ]
     },
     "metadata": {
      "needs_background": "light"
     },
     "output_type": "display_data"
    }
   ],
   "source": [
    "plt.plot(model.predict(x_data[:50]),\"r\")\n",
    "plt.plot(model.predict(x_data[:70]),\"b\")\n",
    "#plt.ylim(0.006,0.008)\n",
    "plt.show()"
   ]
  }
 ],
 "metadata": {
  "kernelspec": {
   "display_name": "Python 3",
   "language": "python",
   "name": "python3"
  },
  "language_info": {
   "codemirror_mode": {
    "name": "ipython",
    "version": 3
   },
   "file_extension": ".py",
   "mimetype": "text/x-python",
   "name": "python",
   "nbconvert_exporter": "python",
   "pygments_lexer": "ipython3",
   "version": "3.6.9"
  }
 },
 "nbformat": 4,
 "nbformat_minor": 2
}
